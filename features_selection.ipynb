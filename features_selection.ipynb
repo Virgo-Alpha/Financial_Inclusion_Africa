{
 "cells": [
  {
   "cell_type": "markdown",
   "metadata": {},
   "source": [
    "# Select features"
   ]
  },
  {
   "cell_type": "code",
   "execution_count": 1,
   "metadata": {},
   "outputs": [],
   "source": [
    "import pandas as pd\n",
    "import numpy as np\n",
    "import matplotlib.pyplot as plt\n",
    "import seaborn as sns"
   ]
  },
  {
   "cell_type": "code",
   "execution_count": 2,
   "metadata": {},
   "outputs": [
    {
     "data": {
      "text/html": [
       "<div>\n",
       "<style scoped>\n",
       "    .dataframe tbody tr th:only-of-type {\n",
       "        vertical-align: middle;\n",
       "    }\n",
       "\n",
       "    .dataframe tbody tr th {\n",
       "        vertical-align: top;\n",
       "    }\n",
       "\n",
       "    .dataframe thead th {\n",
       "        text-align: right;\n",
       "    }\n",
       "</style>\n",
       "<table border=\"1\" class=\"dataframe\">\n",
       "  <thead>\n",
       "    <tr style=\"text-align: right;\">\n",
       "      <th></th>\n",
       "      <th>0</th>\n",
       "      <th>1</th>\n",
       "      <th>2</th>\n",
       "      <th>3</th>\n",
       "      <th>4</th>\n",
       "      <th>5</th>\n",
       "      <th>6</th>\n",
       "      <th>7</th>\n",
       "      <th>8</th>\n",
       "      <th>9</th>\n",
       "      <th>...</th>\n",
       "      <th>27</th>\n",
       "      <th>28</th>\n",
       "      <th>29</th>\n",
       "      <th>30</th>\n",
       "      <th>31</th>\n",
       "      <th>32</th>\n",
       "      <th>33</th>\n",
       "      <th>34</th>\n",
       "      <th>35</th>\n",
       "      <th>36</th>\n",
       "    </tr>\n",
       "  </thead>\n",
       "  <tbody>\n",
       "    <tr>\n",
       "      <th>0</th>\n",
       "      <td>1.0</td>\n",
       "      <td>0.0</td>\n",
       "      <td>1.0</td>\n",
       "      <td>0.10</td>\n",
       "      <td>0.095238</td>\n",
       "      <td>0.0</td>\n",
       "      <td>0.0</td>\n",
       "      <td>0.0</td>\n",
       "      <td>0.0</td>\n",
       "      <td>0.0</td>\n",
       "      <td>...</td>\n",
       "      <td>0.0</td>\n",
       "      <td>0.0</td>\n",
       "      <td>0.0</td>\n",
       "      <td>0.0</td>\n",
       "      <td>0.0</td>\n",
       "      <td>1.0</td>\n",
       "      <td>1.0</td>\n",
       "      <td>0.0</td>\n",
       "      <td>0.0</td>\n",
       "      <td>0.0</td>\n",
       "    </tr>\n",
       "    <tr>\n",
       "      <th>1</th>\n",
       "      <td>1.0</td>\n",
       "      <td>0.0</td>\n",
       "      <td>0.0</td>\n",
       "      <td>0.20</td>\n",
       "      <td>0.642857</td>\n",
       "      <td>0.0</td>\n",
       "      <td>0.0</td>\n",
       "      <td>1.0</td>\n",
       "      <td>0.0</td>\n",
       "      <td>0.0</td>\n",
       "      <td>...</td>\n",
       "      <td>1.0</td>\n",
       "      <td>0.0</td>\n",
       "      <td>0.0</td>\n",
       "      <td>0.0</td>\n",
       "      <td>0.0</td>\n",
       "      <td>0.0</td>\n",
       "      <td>1.0</td>\n",
       "      <td>0.0</td>\n",
       "      <td>0.0</td>\n",
       "      <td>0.0</td>\n",
       "    </tr>\n",
       "    <tr>\n",
       "      <th>2</th>\n",
       "      <td>1.0</td>\n",
       "      <td>1.0</td>\n",
       "      <td>1.0</td>\n",
       "      <td>0.20</td>\n",
       "      <td>0.119048</td>\n",
       "      <td>1.0</td>\n",
       "      <td>0.0</td>\n",
       "      <td>0.0</td>\n",
       "      <td>0.0</td>\n",
       "      <td>1.0</td>\n",
       "      <td>...</td>\n",
       "      <td>0.0</td>\n",
       "      <td>0.0</td>\n",
       "      <td>0.0</td>\n",
       "      <td>0.0</td>\n",
       "      <td>0.0</td>\n",
       "      <td>1.0</td>\n",
       "      <td>1.0</td>\n",
       "      <td>0.0</td>\n",
       "      <td>0.0</td>\n",
       "      <td>0.0</td>\n",
       "    </tr>\n",
       "    <tr>\n",
       "      <th>3</th>\n",
       "      <td>1.0</td>\n",
       "      <td>0.0</td>\n",
       "      <td>1.0</td>\n",
       "      <td>0.20</td>\n",
       "      <td>0.214286</td>\n",
       "      <td>0.0</td>\n",
       "      <td>0.0</td>\n",
       "      <td>1.0</td>\n",
       "      <td>0.0</td>\n",
       "      <td>0.0</td>\n",
       "      <td>...</td>\n",
       "      <td>0.0</td>\n",
       "      <td>0.0</td>\n",
       "      <td>0.0</td>\n",
       "      <td>0.0</td>\n",
       "      <td>0.0</td>\n",
       "      <td>0.0</td>\n",
       "      <td>1.0</td>\n",
       "      <td>0.0</td>\n",
       "      <td>0.0</td>\n",
       "      <td>0.0</td>\n",
       "    </tr>\n",
       "    <tr>\n",
       "      <th>4</th>\n",
       "      <td>1.0</td>\n",
       "      <td>1.0</td>\n",
       "      <td>0.0</td>\n",
       "      <td>0.35</td>\n",
       "      <td>0.119048</td>\n",
       "      <td>1.0</td>\n",
       "      <td>1.0</td>\n",
       "      <td>0.0</td>\n",
       "      <td>0.0</td>\n",
       "      <td>0.0</td>\n",
       "      <td>...</td>\n",
       "      <td>0.0</td>\n",
       "      <td>1.0</td>\n",
       "      <td>0.0</td>\n",
       "      <td>0.0</td>\n",
       "      <td>0.0</td>\n",
       "      <td>0.0</td>\n",
       "      <td>1.0</td>\n",
       "      <td>0.0</td>\n",
       "      <td>0.0</td>\n",
       "      <td>0.0</td>\n",
       "    </tr>\n",
       "  </tbody>\n",
       "</table>\n",
       "<p>5 rows × 37 columns</p>\n",
       "</div>"
      ],
      "text/plain": [
       "     0    1    2     3         4    5    6    7    8    9  ...   27   28   29  \\\n",
       "0  1.0  0.0  1.0  0.10  0.095238  0.0  0.0  0.0  0.0  0.0  ...  0.0  0.0  0.0   \n",
       "1  1.0  0.0  0.0  0.20  0.642857  0.0  0.0  1.0  0.0  0.0  ...  1.0  0.0  0.0   \n",
       "2  1.0  1.0  1.0  0.20  0.119048  1.0  0.0  0.0  0.0  1.0  ...  0.0  0.0  0.0   \n",
       "3  1.0  0.0  1.0  0.20  0.214286  0.0  0.0  1.0  0.0  0.0  ...  0.0  0.0  0.0   \n",
       "4  1.0  1.0  0.0  0.35  0.119048  1.0  1.0  0.0  0.0  0.0  ...  0.0  1.0  0.0   \n",
       "\n",
       "    30   31   32   33   34   35   36  \n",
       "0  0.0  0.0  1.0  1.0  0.0  0.0  0.0  \n",
       "1  0.0  0.0  0.0  1.0  0.0  0.0  0.0  \n",
       "2  0.0  0.0  1.0  1.0  0.0  0.0  0.0  \n",
       "3  0.0  0.0  0.0  1.0  0.0  0.0  0.0  \n",
       "4  0.0  0.0  0.0  1.0  0.0  0.0  0.0  \n",
       "\n",
       "[5 rows x 37 columns]"
      ]
     },
     "execution_count": 2,
     "metadata": {},
     "output_type": "execute_result"
    }
   ],
   "source": [
    "X = pd.read_csv('data/preprocessed_train.csv')\n",
    "train = pd.read_csv('data/Train.csv')\n",
    "y = train['bank_account']\n",
    "\n",
    "X.head()"
   ]
  },
  {
   "cell_type": "markdown",
   "metadata": {},
   "source": [
    "## Feature selection Methods"
   ]
  },
  {
   "cell_type": "markdown",
   "metadata": {},
   "source": [
    "### 1. Univariate Selection"
   ]
  },
  {
   "cell_type": "markdown",
   "metadata": {},
   "source": [
    "Statistical tests can be used to select those features that have the strongest relationship with the output variable.\n",
    "\n",
    "The scikit-learn library provides the SelectKBest class that can be used with a suite of different statistical tests to select a specific number of features.\n",
    "\n",
    "Many different statistical test scan be used with this selection method. For example the ANOVA F-value method is appropriate for numerical inputs and categorical data. This can be used via the f_classif() function. "
   ]
  },
  {
   "cell_type": "code",
   "execution_count": 5,
   "metadata": {},
   "outputs": [
    {
     "name": "stdout",
     "output_type": "stream",
     "text": [
      "[3.005e+02 1.806e+02 1.082e+03 1.889e+01 8.882e+00 3.278e+02 5.996e+01\n",
      " 3.125e+02 1.999e+00 1.002e+01 6.182e+01 8.752e+01 1.484e+01 7.889e-01\n",
      " 1.774e+02 3.916e+01 6.517e+01 4.887e+02 8.724e+00 7.318e+02 3.655e+02\n",
      " 1.463e+03 1.340e+03 9.225e-01 3.399e+01 1.386e+03 1.561e+03 7.841e+00\n",
      " 2.302e+02 7.700e+01 1.550e+01 4.923e+01 6.006e+00 8.452e+02 7.770e+01\n",
      " 1.850e+02 5.708e+01]\n",
      "[[0. 0. 0. 0.]\n",
      " [0. 0. 0. 0.]\n",
      " [0. 1. 0. 0.]\n",
      " [0. 0. 0. 1.]\n",
      " [0. 0. 0. 0.]]\n"
     ]
    }
   ],
   "source": [
    "from sklearn.feature_selection import SelectKBest\n",
    "from numpy import set_printoptions\n",
    "from sklearn.feature_selection import f_classif\n",
    "\n",
    "# feature extraction\n",
    "test = SelectKBest(score_func=f_classif, k=4)\n",
    "fit = test.fit(X, y)\n",
    "# summarize scores\n",
    "set_printoptions(precision=3)\n",
    "print(fit.scores_)\n",
    "features = fit.transform(X)\n",
    "# summarize selected features\n",
    "print(features[0:5,:])"
   ]
  },
  {
   "cell_type": "markdown",
   "metadata": {},
   "source": [
    "\n",
    "We will use the chi method to select the 10 best features using this method in the example below."
   ]
  },
  {
   "cell_type": "code",
   "execution_count": 4,
   "metadata": {},
   "outputs": [
    {
     "name": "stdout",
     "output_type": "stream",
     "text": [
      "   Specs        Score\n",
      "26    26  1398.459048\n",
      "21    21  1309.442224\n",
      "25    25  1287.543695\n",
      "22    22  1224.908523\n",
      "33    33   605.482163\n",
      "17    17   386.875887\n",
      "19    19   323.840989\n",
      "20    20   295.349066\n",
      "2      2   266.843216\n",
      "5      5   190.722499\n"
     ]
    }
   ],
   "source": [
    "from sklearn.feature_selection import SelectKBest\n",
    "from sklearn.feature_selection import chi2\n",
    "\n",
    "#apply SelectKBest class to extract top 10 best features\n",
    "bestfeatures = SelectKBest(score_func=chi2, k=10)\n",
    "fit = bestfeatures.fit(X,y)\n",
    "dfscores = pd.DataFrame(fit.scores_)\n",
    "dfcolumns = pd.DataFrame(X.columns)\n",
    "#concat two dataframes for better visualization \n",
    "featureScores = pd.concat([dfcolumns,dfscores],axis=1)\n",
    "featureScores.columns = ['Specs','Score']  #naming the dataframe columns\n",
    "print(featureScores.nlargest(10,'Score'))  #print 10 best features"
   ]
  },
  {
   "cell_type": "markdown",
   "metadata": {},
   "source": [
    "#### Alternatives to ch-squared and ANOVA F-value (all imported from sklearn.feature_selection)\n",
    "\n",
    "1. *Mutual Information*: Measures the mutual dependence between two variables.\n",
    "\n",
    "2. *Information Gain*: Measures the reduction in entropy achieved by splitting data on a particular feature.\n",
    "\n",
    "3. *Correlation Coefficient*: Measures the linear relationship between two numerical variables.\n",
    "\n",
    "4. *Distance Correlation*: Measures the dependence between two random variables.\n",
    "\n",
    "5. *ReliefF*: Computes feature importance based on the ability to distinguish between instances of different classes."
   ]
  },
  {
   "cell_type": "markdown",
   "metadata": {},
   "source": [
    "### 2. Feature Importance"
   ]
  },
  {
   "cell_type": "markdown",
   "metadata": {},
   "source": [
    "Bagged decision trees like Random Forest and Extra Trees can be used to estimate the importance of features.\n",
    "\n",
    "Note: Your results may vary given the stochastic nature of the algorithm or evaluation procedure, or differences in numerical precision. Consider running the example a few times and compare the average outcome."
   ]
  },
  {
   "cell_type": "code",
   "execution_count": 7,
   "metadata": {},
   "outputs": [
    {
     "name": "stdout",
     "output_type": "stream",
     "text": [
      "[1.05760727e-02 3.74495083e-02 2.83546148e-02 1.51631017e-01\n",
      " 3.51043847e-01 2.33748542e-02 6.46679755e-03 1.67228763e-02\n",
      " 2.13604723e-03 3.94363423e-03 3.84675759e-03 5.79380632e-03\n",
      " 7.03031964e-03 1.77035601e-04 1.28480926e-02 1.06547351e-02\n",
      " 5.78128207e-03 1.71716613e-02 9.63246421e-04 2.42933055e-02\n",
      " 1.88041007e-02 4.28441332e-02 3.22379754e-02 1.23023694e-03\n",
      " 8.92866561e-03 3.65443945e-02 4.50739490e-02 5.04969028e-03\n",
      " 1.24935623e-02 1.67252352e-03 7.94029277e-03 9.56560149e-03\n",
      " 1.56093011e-02 1.78868140e-02 6.93903571e-03 1.09375875e-02\n",
      " 5.98262389e-03]\n"
     ]
    },
    {
     "data": {
      "image/png": "[encoded data removed]",
      "text/plain": [
       "<Figure size 432x288 with 1 Axes>"
      ]
     },
     "metadata": {
      "needs_background": "light"
     },
     "output_type": "display_data"
    }
   ],
   "source": [
    "from sklearn.ensemble import ExtraTreesClassifier\n",
    "import matplotlib.pyplot as plt\n",
    "\n",
    "model = ExtraTreesClassifier()\n",
    "model.fit(X,y)\n",
    "print(model.feature_importances_) #use inbuilt class feature_importances of tree based classifiers\n",
    "#plot graph of feature importances for better visualization\n",
    "feat_importances = pd.Series(model.feature_importances_, index=X.columns)\n",
    "feat_importances.nlargest(10).plot(kind='barh')\n",
    "plt.show()"
   ]
  },
  {
   "cell_type": "markdown",
   "metadata": {},
   "source": [
    "### 3. Recursive Feature Elimination"
   ]
  },
  {
   "cell_type": "markdown",
   "metadata": {},
   "source": [
    "The Recursive Feature Elimination (or RFE) works by recursively removing attributes and building a model on those attributes that remain.\n",
    "\n",
    "It uses the model accuracy to identify which attributes (and combination of attributes) contribute the most to predicting the target attribute.\n",
    "\n",
    "You can learn more about the RFE class in the scikit-learn documentation.\n",
    "\n",
    "The example below uses RFE with the logistic regression algorithm to select the top 10 features. The choice of algorithm does not matter too much as long as it is skillful and consistent."
   ]
  },
  {
   "cell_type": "code",
   "execution_count": 6,
   "metadata": {},
   "outputs": [
    {
     "name": "stdout",
     "output_type": "stream",
     "text": [
      "   Feature  Ranking\n",
      "2        2        1\n",
      "4        4        1\n",
      "17      17        1\n",
      "19      19        1\n",
      "21      21        1\n",
      "22      22        1\n",
      "25      25        1\n",
      "26      26        1\n",
      "29      29        1\n",
      "35      35        1\n"
     ]
    }
   ],
   "source": [
    "from sklearn.feature_selection import RFE\n",
    "from sklearn.linear_model import LogisticRegression\n",
    "\n",
    "# Assuming you have already defined X and y\n",
    "\n",
    "# Create the RFE model and select 10 best features\n",
    "rfe = RFE(estimator=LogisticRegression(), n_features_to_select=10)\n",
    "fit = rfe.fit(X, y)\n",
    "\n",
    "# Create DataFrame to store selected features and their rankings\n",
    "selected_features = pd.DataFrame({'Feature': X.columns, 'Ranking': rfe.ranking_})\n",
    "\n",
    "# Print the selected features\n",
    "print(selected_features[selected_features['Ranking'] == 1])"
   ]
  },
  {
   "cell_type": "markdown",
   "metadata": {},
   "source": [
    "### 4. Principal Component Analysis"
   ]
  },
  {
   "cell_type": "markdown",
   "metadata": {},
   "source": [
    "[Principal Component Analysis](https://machinelearningmastery.com/calculate-principal-component-analysis-scratch-python/) (or PCA) uses linear algebra to transform the dataset into a compressed form.\n",
    "\n",
    "Generally this is called a data reduction technique. A property of PCA is that you can choose the number of dimensions or principal component in the transformed result.\n",
    "\n",
    "In the example below, we use PCA and select 3 principal components.\n",
    "\n",
    "Learn more about the PCA class in scikit-learn by reviewing the [PCA API](http://scikit-learn.org/stable/modules/generated/sklearn.decomposition.PCA.html). Dive deeper into the math behind PCA on the [Principal Component Analysis Wikipedia article](https://en.wikipedia.org/wiki/Principal_component_analysis).\n",
    "\n",
    "#### PCA Usefulness:\n",
    "1. ***Dimension reduction***:  When dealing with datasets containing a large number of features, PCA can help reduce the dimensionality while preserving most of the variability in the data. This can lead to simpler models, reduced computational complexity, and alleviation of the curse of dimensionality. An example is here where we have 37 features\n",
    "\n",
    "2. ***Data exploration/visualization***: PCA can be used to visualize high-dimensional data in lower-dimensional space (e.g., 2D or 3D) for exploratory data analysis and visualization. This can help uncover patterns, clusters, and relationships between variables.\n",
    "\n",
    "3. ***Noise reduction***: PCA identifies and removes redundant information (noise) in the data by focusing on the directions of maximum variance. This can lead to improved model performance by reducing overfitting and improving generalization\n",
    "\n",
    "4. ***Feature Creation***: PCA can be used to create new composite features (principal components) that capture the most important information in the original features. These components may be more informative or less correlated than the original features, potentially enhancing the performance of machine learning algorithms.\n",
    "\n",
    "5. ***Reducing computational Complexity***: In cases where the original dataset is large and computationally expensive to process, PCA can be used to reduce the size of the dataset without sacrificing much information. This can lead to faster training and inference times for machine learning models.\n",
    "\n",
    "6. ***Addressing multicollinearity in the features***: PCA can mitigate multicollinearity issues by transforming correlated features into orthogonal principal components. This can improve the stability and interpretability of regression models."
   ]
  },
  {
   "cell_type": "code",
   "execution_count": 7,
   "metadata": {},
   "outputs": [
    {
     "name": "stdout",
     "output_type": "stream",
     "text": [
      "[0.165 0.114 0.111 0.086 0.075 0.059 0.055 0.042 0.039 0.035]\n",
      "        PC1       PC2       PC3       PC4       PC5       PC6       PC7  \\\n",
      "0 -0.072415  0.472525  1.597179  0.110169 -0.096852 -0.666902  0.002934   \n",
      "1  0.121378 -0.747126  0.669584  0.807667  1.212094  0.999779 -0.308788   \n",
      "2  1.147935 -0.259399  0.577820  0.373439 -0.660275 -0.420732 -0.169564   \n",
      "3 -0.227015 -0.533407  0.930931 -0.619797 -0.145277  0.513711 -0.232388   \n",
      "4  0.900289 -0.002575  0.200828  0.175920 -1.077896  1.097199  0.381326   \n",
      "\n",
      "        PC8       PC9      PC10  \n",
      "0  0.024823  0.466306 -0.190280  \n",
      "1  0.213120  0.109383 -0.091919  \n",
      "2  0.018762 -0.195644 -0.369087  \n",
      "3 -0.304223  0.203956 -0.155300  \n",
      "4  0.606125 -0.591878  0.233130  \n"
     ]
    }
   ],
   "source": [
    "from sklearn.decomposition import PCA\n",
    "\n",
    "# Create the PCA model and specify the number of components\n",
    "pca = PCA(n_components=10)\n",
    "X_pca = pca.fit_transform(X)\n",
    "\n",
    "# Create DataFrame to store principal components\n",
    "pca_df = pd.DataFrame(data=X_pca, columns=[f'PC{i}' for i in range(1, 11)])\n",
    "\n",
    "# Print the explained variance ratio of each principal component\n",
    "print(pca.explained_variance_ratio_)\n",
    "\n",
    "# Print the first few rows of the transformed data\n",
    "print(pca_df.head())"
   ]
  },
  {
   "cell_type": "markdown",
   "metadata": {},
   "source": [
    "### 5. Correlation Matrix with Heatmap"
   ]
  },
  {
   "cell_type": "code",
   "execution_count": 12,
   "metadata": {},
   "outputs": [
    {
     "data": {
      "image/png": "[encoded data removed]",
      "text/plain": [
       "<Figure size 2664x2664 with 2 Axes>"
      ]
     },
     "metadata": {
      "needs_background": "light"
     },
     "output_type": "display_data"
    }
   ],
   "source": [
    "#get correlations of each features in dataset\n",
    "corrmat = X.corr()\n",
    "top_corr_features = corrmat.index\n",
    "plt.figure(figsize=(37,37))\n",
    "#plot heat map\n",
    "g=sns.heatmap(X[top_corr_features].corr(),annot=True,cmap=\"coolwarm\")"
   ]
  },
  {
   "cell_type": "markdown",
   "metadata": {},
   "source": [
    "### Further reading\n",
    "\n",
    "\n",
    "https://machinelearningmastery.com/feature-selection-with-real-and-categorical-data/"
   ]
  },
  {
   "cell_type": "markdown",
   "metadata": {},
   "source": [
    "Based on the type of ML and the features one can choose any of these methods:\n",
    "\n",
    "![feat_selection_technique_1](assets/feat_selection_technique_1.png)"
   ]
  },
  {
   "cell_type": "markdown",
   "metadata": {},
   "source": [
    "Based on the datatypes of the features themselves, one can also pick a statistical method to work with either univariate or otherwise\n",
    "\n",
    "![feat_selection_technique_2](assets/feat_selection_technique_2.png)"
   ]
  }
 ],
 "metadata": {
  "kernelspec": {
   "display_name": "Python 3",
   "language": "python",
   "name": "python3"
  },
  "language_info": {
   "codemirror_mode": {
    "name": "ipython",
    "version": 3
   },
   "file_extension": ".py",
   "mimetype": "text/x-python",
   "name": "python",
   "nbconvert_exporter": "python",
   "pygments_lexer": "ipython3",
   "version": "3.10.12"
  }
 },
 "nbformat": 4,
 "nbformat_minor": 2
}
